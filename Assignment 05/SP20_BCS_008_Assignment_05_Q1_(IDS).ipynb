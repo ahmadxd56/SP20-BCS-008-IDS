{
  "nbformat": 4,
  "nbformat_minor": 0,
  "metadata": {
    "colab": {
      "provenance": []
    },
    "kernelspec": {
      "name": "python3",
      "display_name": "Python 3"
    },
    "language_info": {
      "name": "python"
    }
  },
  "cells": [
    {
      "cell_type": "code",
      "execution_count": 4,
      "metadata": {
        "colab": {
          "base_uri": "https://localhost:8080/"
        },
        "id": "__9W8t03Ky8m",
        "outputId": "157a8efe-78ac-4d78-ccdb-4aae3e43aba4"
      },
      "outputs": [
        {
          "output_type": "stream",
          "name": "stdout",
          "text": [
            "BoW model: [{'enjoy', 'sunshine', 'state'}, {'jump', 'fox', 'brown', 'run', 'high,'}, {'fast', 'fox', 'run', 'sunshine', 'state'}]\n",
            "TF model: [Counter({'sunshine': 2, 'state': 1, 'enjoy': 1}), Counter({'brown': 2, 'fox': 2, 'jump': 1, 'high,': 1, 'run': 1}), Counter({'sunshine': 1, 'state': 1, 'fox': 1, 'run': 1, 'fast': 1})]\n",
            "IDF model: {'sunshine': 0.0, 'state': 0.4054651081081644, 'enjoy': 1.0986122886681098, 'brown': 0.4054651081081644, 'fox': 0.0, 'jump': 1.0986122886681098, 'high,': 1.0986122886681098, 'run': 0.4054651081081644, 'fast': 1.0986122886681098}\n",
            "TF.IDF values: [{'sunshine': 0.0, 'state': 0.4054651081081644, 'enjoy': 1.0986122886681098}, {'brown': 0.8109302162163288, 'fox': 0.0, 'jump': 1.0986122886681098, 'high,': 1.0986122886681098, 'run': 0.4054651081081644}, {'sunshine': 0.0, 'state': 0.4054651081081644, 'fox': 0.0, 'run': 0.4054651081081644, 'fast': 1.0986122886681098}]\n"
          ]
        }
      ],
      "source": [
        "from collections import Counter\n",
        "from math import log\n",
        "\n",
        "documents = [\"sunshine state enjoy sunshine\", \n",
        "             \"brown fox jump high, brown fox run\", \n",
        "             \"sunshine state fox run fast\"]\n",
        "\n",
        "#BoW model\n",
        "bow_model = [set(doc.split()) for doc in documents]\n",
        "print(\"BoW model:\", bow_model)\n",
        "\n",
        "#TF model\n",
        "tf_model = [Counter(doc.split()) for doc in documents]\n",
        "print(\"TF model:\", tf_model)\n",
        "\n",
        "#IDF model\n",
        "idf_model = {}\n",
        "N = len(documents)\n",
        "for doc in documents:\n",
        "    for term in doc.split():\n",
        "        if term not in idf_model:\n",
        "            idf_model[term] = 1\n",
        "        else:\n",
        "            idf_model[term] += 1\n",
        "for term, n in idf_model.items():\n",
        "    idf_model[term] = log(N / n)\n",
        "print(\"IDF model:\", idf_model)\n",
        "\n",
        "#TF.IDF values\n",
        "tfidf_values = []\n",
        "for i in range(N):\n",
        "    tfidf_doc = {}\n",
        "    for term, tf in tf_model[i].items():\n",
        "        tfidf_doc[term] = tf * idf_model[term]\n",
        "    tfidf_values.append(tfidf_doc)\n",
        "print(\"TF.IDF values:\", tfidf_values)"
      ]
    }
  ]
}