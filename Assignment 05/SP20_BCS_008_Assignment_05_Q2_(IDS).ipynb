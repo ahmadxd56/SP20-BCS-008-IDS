{
  "nbformat": 4,
  "nbformat_minor": 0,
  "metadata": {
    "colab": {
      "provenance": []
    },
    "kernelspec": {
      "name": "python3",
      "display_name": "Python 3"
    },
    "language_info": {
      "name": "python"
    }
  },
  "cells": [
    {
      "cell_type": "code",
      "execution_count": 2,
      "metadata": {
        "colab": {
          "base_uri": "https://localhost:8080/"
        },
        "id": "qz0BQZGJLymB",
        "outputId": "541f5a67-d0f1-462d-b6ef-c0651add3c5b"
      },
      "outputs": [
        {
          "output_type": "stream",
          "name": "stdout",
          "text": [
            "0.8164965809277261\n"
          ]
        }
      ],
      "source": [
        "import math\n",
        "\n",
        "def cosine_similarity(vec1, vec2):\n",
        "  if len(vec1) < len(vec2):\n",
        "    vec1 += [0] * (len(vec2) - len(vec1))\n",
        "  elif len(vec2) < len(vec1):\n",
        "    vec2 += [0] * (len(vec1) - len(vec2))\n",
        "\n",
        "  dot_product = sum([vec1[i] * vec2[i] for i in range(len(vec1))])\n",
        "\n",
        "  magnitude1 = math.sqrt(sum([x**2 for x in vec1]))\n",
        "  magnitude2 = math.sqrt(sum([x**2 for x in vec2]))\n",
        "\n",
        "  cosine_similarity = dot_product / (magnitude1 * magnitude2)\n",
        "\n",
        "  return cosine_similarity\n",
        "\n",
        "print(cosine_similarity([2,1,1],[1,1,1,1]))"
      ]
    }
  ]
}