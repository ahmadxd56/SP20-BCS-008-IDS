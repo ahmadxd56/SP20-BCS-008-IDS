{
 "cells": [
  {
   "cell_type": "code",
   "execution_count": 30,
   "id": "4ad885ce",
   "metadata": {},
   "outputs": [],
   "source": [
    "from sklearn import preprocessing\n",
    "import pandas as pd\n",
    "import numpy as np\n",
    "import seaborn as sns\n",
    "#ML classifiers\n",
    "from sklearn.naive_bayes import GaussianNB, BernoulliNB, MultinomialNB\n",
    "from sklearn.svm import SVC, LinearSVC\n",
    "from sklearn.linear_model import LogisticRegression\n",
    "from sklearn.tree import DecisionTreeClassifier\n",
    "from sklearn.ensemble import RandomForestClassifier\n",
    "from sklearn.neural_network import MLPClassifier\n",
    "from sklearn.linear_model import Perceptron\n",
    "from sklearn.model_selection import LeavePOut\n",
    "from sklearn.model_selection import ShuffleSplit,cross_val_score\n",
    "#ML evaluation metrics\n",
    "from sklearn.metrics import accuracy_score, f1_score\n",
    "from sklearn.model_selection import train_test_split\n",
    "from sklearn import metrics, model_selection\n",
    "from sklearn.metrics import precision_score, recall_score, f1_score, accuracy_score\n",
    "#scikitplot to plot confusion matrix\n",
    "import scikitplot as skplt"
   ]
  },
  {
   "cell_type": "code",
   "execution_count": 31,
   "id": "b8623106",
   "metadata": {},
   "outputs": [
    {
     "data": {
      "text/html": [
       "<div>\n",
       "<style scoped>\n",
       "    .dataframe tbody tr th:only-of-type {\n",
       "        vertical-align: middle;\n",
       "    }\n",
       "\n",
       "    .dataframe tbody tr th {\n",
       "        vertical-align: top;\n",
       "    }\n",
       "\n",
       "    .dataframe thead th {\n",
       "        text-align: right;\n",
       "    }\n",
       "</style>\n",
       "<table border=\"1\" class=\"dataframe\">\n",
       "  <thead>\n",
       "    <tr style=\"text-align: right;\">\n",
       "      <th></th>\n",
       "      <th>height</th>\n",
       "      <th>weight</th>\n",
       "      <th>beard</th>\n",
       "      <th>hair_length</th>\n",
       "      <th>shoe_size</th>\n",
       "      <th>scarf</th>\n",
       "      <th>eye_color</th>\n",
       "      <th>gender</th>\n",
       "    </tr>\n",
       "  </thead>\n",
       "  <tbody>\n",
       "    <tr>\n",
       "      <th>0</th>\n",
       "      <td>71</td>\n",
       "      <td>176</td>\n",
       "      <td>yes</td>\n",
       "      <td>short</td>\n",
       "      <td>44</td>\n",
       "      <td>no</td>\n",
       "      <td>black</td>\n",
       "      <td>male</td>\n",
       "    </tr>\n",
       "    <tr>\n",
       "      <th>1</th>\n",
       "      <td>68</td>\n",
       "      <td>165</td>\n",
       "      <td>no</td>\n",
       "      <td>bald</td>\n",
       "      <td>41</td>\n",
       "      <td>no</td>\n",
       "      <td>black</td>\n",
       "      <td>male</td>\n",
       "    </tr>\n",
       "    <tr>\n",
       "      <th>2</th>\n",
       "      <td>62</td>\n",
       "      <td>132</td>\n",
       "      <td>no</td>\n",
       "      <td>medium</td>\n",
       "      <td>37</td>\n",
       "      <td>yes</td>\n",
       "      <td>blue</td>\n",
       "      <td>female</td>\n",
       "    </tr>\n",
       "    <tr>\n",
       "      <th>3</th>\n",
       "      <td>65</td>\n",
       "      <td>138</td>\n",
       "      <td>no</td>\n",
       "      <td>long</td>\n",
       "      <td>38</td>\n",
       "      <td>no</td>\n",
       "      <td>gray</td>\n",
       "      <td>female</td>\n",
       "    </tr>\n",
       "    <tr>\n",
       "      <th>4</th>\n",
       "      <td>70</td>\n",
       "      <td>197</td>\n",
       "      <td>yes</td>\n",
       "      <td>medium</td>\n",
       "      <td>43</td>\n",
       "      <td>no</td>\n",
       "      <td>gray</td>\n",
       "      <td>male</td>\n",
       "    </tr>\n",
       "    <tr>\n",
       "      <th>...</th>\n",
       "      <td>...</td>\n",
       "      <td>...</td>\n",
       "      <td>...</td>\n",
       "      <td>...</td>\n",
       "      <td>...</td>\n",
       "      <td>...</td>\n",
       "      <td>...</td>\n",
       "      <td>...</td>\n",
       "    </tr>\n",
       "    <tr>\n",
       "      <th>75</th>\n",
       "      <td>65</td>\n",
       "      <td>99</td>\n",
       "      <td>no</td>\n",
       "      <td>short</td>\n",
       "      <td>39</td>\n",
       "      <td>yes</td>\n",
       "      <td>green</td>\n",
       "      <td>female</td>\n",
       "    </tr>\n",
       "    <tr>\n",
       "      <th>76</th>\n",
       "      <td>61</td>\n",
       "      <td>98</td>\n",
       "      <td>no</td>\n",
       "      <td>short</td>\n",
       "      <td>37</td>\n",
       "      <td>no</td>\n",
       "      <td>brown</td>\n",
       "      <td>female</td>\n",
       "    </tr>\n",
       "    <tr>\n",
       "      <th>77</th>\n",
       "      <td>67</td>\n",
       "      <td>119</td>\n",
       "      <td>yes</td>\n",
       "      <td>short</td>\n",
       "      <td>40</td>\n",
       "      <td>no</td>\n",
       "      <td>black</td>\n",
       "      <td>male</td>\n",
       "    </tr>\n",
       "    <tr>\n",
       "      <th>78</th>\n",
       "      <td>70</td>\n",
       "      <td>190</td>\n",
       "      <td>yes</td>\n",
       "      <td>medium</td>\n",
       "      <td>43</td>\n",
       "      <td>no</td>\n",
       "      <td>gray</td>\n",
       "      <td>male</td>\n",
       "    </tr>\n",
       "    <tr>\n",
       "      <th>79</th>\n",
       "      <td>62</td>\n",
       "      <td>142</td>\n",
       "      <td>yes</td>\n",
       "      <td>long</td>\n",
       "      <td>37</td>\n",
       "      <td>no</td>\n",
       "      <td>blue</td>\n",
       "      <td>female</td>\n",
       "    </tr>\n",
       "  </tbody>\n",
       "</table>\n",
       "<p>80 rows × 8 columns</p>\n",
       "</div>"
      ],
      "text/plain": [
       "    height  weight beard hair_length  shoe_size scarf eye_color  gender\n",
       "0       71     176   yes       short         44    no     black    male\n",
       "1       68     165    no        bald         41    no     black    male\n",
       "2       62     132    no      medium         37   yes      blue  female\n",
       "3       65     138    no        long         38    no      gray  female\n",
       "4       70     197   yes      medium         43    no      gray    male\n",
       "..     ...     ...   ...         ...        ...   ...       ...     ...\n",
       "75      65      99    no       short         39   yes     green  female\n",
       "76      61      98    no       short         37    no     brown  female\n",
       "77      67     119   yes       short         40    no     black    male\n",
       "78      70     190   yes      medium         43    no      gray    male\n",
       "79      62     142   yes        long         37    no      blue  female\n",
       "\n",
       "[80 rows x 8 columns]"
      ]
     },
     "execution_count": 31,
     "metadata": {},
     "output_type": "execute_result"
    }
   ],
   "source": [
    "df_gender = pd.read_csv('gender-prediction.csv')\n",
    "df_gender"
   ]
  },
  {
   "cell_type": "code",
   "execution_count": 32,
   "id": "a9a0780e",
   "metadata": {},
   "outputs": [],
   "source": [
    "labels = preprocessing.LabelEncoder()\n",
    "\n",
    "b_encoder = labels.fit_transform(df_gender.beard)\n",
    "h_encoder = labels.fit_transform(df_gender.hair_length)\n",
    "s_encoder = labels.fit_transform(df_gender.scarf)\n",
    "e_encoder = labels.fit_transform(df_gender.eye_color)\n",
    "g_encoder = labels.fit_transform(df_gender.gender)"
   ]
  },
  {
   "cell_type": "code",
   "execution_count": 33,
   "id": "ec6ce103",
   "metadata": {},
   "outputs": [],
   "source": [
    "#Q2) Apply Random Forest, Support Vector Machines, and Multilayer Perceptron classification algorithms(using Python) on the gender prediction dataset with standard train/test split ratio and answer the following questions."
   ]
  },
  {
   "cell_type": "code",
   "execution_count": 34,
   "id": "94c3be92",
   "metadata": {},
   "outputs": [],
   "source": [
    "#1. How many instances are incorrectly classified?\n",
    "X = df_gender.drop('gender', axis=1)\n",
    "y = df_gender['gender']"
   ]
  },
  {
   "cell_type": "code",
   "execution_count": 35,
   "id": "70f1607b",
   "metadata": {},
   "outputs": [
    {
     "data": {
      "text/plain": [
       "array([1, 1, 0, 0, 1, 1, 1, 1, 0, 0, 0, 1, 1, 0, 1, 1, 1, 0, 0, 0, 0, 1,\n",
       "       1, 1, 0, 1, 1, 0, 0, 0, 0, 1, 0, 0, 0, 1, 0, 1, 0, 0, 0, 1, 1, 1,\n",
       "       1, 1, 1, 1, 1, 1, 1, 1, 1, 1, 0, 1, 1, 0, 1, 1, 1, 1, 1, 0, 0, 1,\n",
       "       0, 1, 0, 1, 0, 1, 1, 0, 0, 0, 0, 1, 1, 0])"
      ]
     },
     "execution_count": 35,
     "metadata": {},
     "output_type": "execute_result"
    }
   ],
   "source": [
    "#Converting strings values into numbers\n",
    "\n",
    "labels = preprocessing.LabelEncoder()\n",
    "y_encoded = labels.fit_transform(y)\n",
    "y_encoded"
   ]
  },
  {
   "cell_type": "code",
   "execution_count": 36,
   "id": "bf0dfde0",
   "metadata": {},
   "outputs": [
    {
     "data": {
      "text/html": [
       "<div>\n",
       "<style scoped>\n",
       "    .dataframe tbody tr th:only-of-type {\n",
       "        vertical-align: middle;\n",
       "    }\n",
       "\n",
       "    .dataframe tbody tr th {\n",
       "        vertical-align: top;\n",
       "    }\n",
       "\n",
       "    .dataframe thead th {\n",
       "        text-align: right;\n",
       "    }\n",
       "</style>\n",
       "<table border=\"1\" class=\"dataframe\">\n",
       "  <thead>\n",
       "    <tr style=\"text-align: right;\">\n",
       "      <th></th>\n",
       "      <th>height</th>\n",
       "      <th>weight</th>\n",
       "      <th>shoe_size</th>\n",
       "    </tr>\n",
       "  </thead>\n",
       "  <tbody>\n",
       "    <tr>\n",
       "      <th>0</th>\n",
       "      <td>71</td>\n",
       "      <td>176</td>\n",
       "      <td>44</td>\n",
       "    </tr>\n",
       "    <tr>\n",
       "      <th>1</th>\n",
       "      <td>68</td>\n",
       "      <td>165</td>\n",
       "      <td>41</td>\n",
       "    </tr>\n",
       "    <tr>\n",
       "      <th>2</th>\n",
       "      <td>62</td>\n",
       "      <td>132</td>\n",
       "      <td>37</td>\n",
       "    </tr>\n",
       "    <tr>\n",
       "      <th>3</th>\n",
       "      <td>65</td>\n",
       "      <td>138</td>\n",
       "      <td>38</td>\n",
       "    </tr>\n",
       "    <tr>\n",
       "      <th>4</th>\n",
       "      <td>70</td>\n",
       "      <td>197</td>\n",
       "      <td>43</td>\n",
       "    </tr>\n",
       "    <tr>\n",
       "      <th>...</th>\n",
       "      <td>...</td>\n",
       "      <td>...</td>\n",
       "      <td>...</td>\n",
       "    </tr>\n",
       "    <tr>\n",
       "      <th>75</th>\n",
       "      <td>65</td>\n",
       "      <td>99</td>\n",
       "      <td>39</td>\n",
       "    </tr>\n",
       "    <tr>\n",
       "      <th>76</th>\n",
       "      <td>61</td>\n",
       "      <td>98</td>\n",
       "      <td>37</td>\n",
       "    </tr>\n",
       "    <tr>\n",
       "      <th>77</th>\n",
       "      <td>67</td>\n",
       "      <td>119</td>\n",
       "      <td>40</td>\n",
       "    </tr>\n",
       "    <tr>\n",
       "      <th>78</th>\n",
       "      <td>70</td>\n",
       "      <td>190</td>\n",
       "      <td>43</td>\n",
       "    </tr>\n",
       "    <tr>\n",
       "      <th>79</th>\n",
       "      <td>62</td>\n",
       "      <td>142</td>\n",
       "      <td>37</td>\n",
       "    </tr>\n",
       "  </tbody>\n",
       "</table>\n",
       "<p>80 rows × 3 columns</p>\n",
       "</div>"
      ],
      "text/plain": [
       "    height  weight  shoe_size\n",
       "0       71     176         44\n",
       "1       68     165         41\n",
       "2       62     132         37\n",
       "3       65     138         38\n",
       "4       70     197         43\n",
       "..     ...     ...        ...\n",
       "75      65      99         39\n",
       "76      61      98         37\n",
       "77      67     119         40\n",
       "78      70     190         43\n",
       "79      62     142         37\n",
       "\n",
       "[80 rows x 3 columns]"
      ]
     },
     "execution_count": 36,
     "metadata": {},
     "output_type": "execute_result"
    }
   ],
   "source": [
    "data = df_gender.drop(['beard','hair_length','scarf','eye_color','gender'],axis=1)\n",
    "data"
   ]
  },
  {
   "cell_type": "code",
   "execution_count": 37,
   "id": "afa41aa4",
   "metadata": {},
   "outputs": [
    {
     "data": {
      "text/plain": [
       "[(71, 176, 1, 3, 44, 0, 0),\n",
       " (68, 165, 0, 0, 41, 0, 0),\n",
       " (62, 132, 0, 2, 37, 1, 1),\n",
       " (65, 138, 0, 1, 38, 0, 3),\n",
       " (70, 197, 1, 2, 43, 0, 3),\n",
       " (71, 190, 1, 3, 43, 0, 0),\n",
       " (74, 201, 1, 0, 44, 0, 2),\n",
       " (74, 182, 0, 3, 46, 0, 2),\n",
       " (63, 127, 0, 3, 35, 0, 4),\n",
       " (65, 139, 0, 2, 37, 1, 3),\n",
       " (66, 125, 0, 1, 36, 0, 3),\n",
       " (73, 188, 1, 3, 42, 0, 3),\n",
       " (74, 167, 0, 2, 41, 0, 0),\n",
       " (68, 141, 0, 1, 38, 0, 3),\n",
       " (70, 199, 1, 2, 40, 0, 0),\n",
       " (73, 189, 1, 3, 43, 0, 1),\n",
       " (69, 159, 0, 3, 43, 0, 0),\n",
       " (68, 135, 0, 1, 37, 1, 4),\n",
       " (68, 145, 0, 1, 38, 1, 3),\n",
       " (66, 138, 0, 2, 37, 0, 4),\n",
       " (66, 132, 0, 2, 40, 0, 0),\n",
       " (71, 170, 1, 2, 42, 0, 0),\n",
       " (67, 119, 1, 3, 40, 0, 0),\n",
       " (70, 190, 1, 2, 43, 0, 3),\n",
       " (68, 154, 0, 2, 38, 1, 2),\n",
       " (71, 155, 1, 2, 45, 0, 2),\n",
       " (69, 121, 1, 2, 41, 0, 0),\n",
       " (68, 97, 0, 2, 39, 0, 4),\n",
       " (68, 158, 0, 1, 38, 0, 1),\n",
       " (58, 92, 0, 3, 40, 1, 3),\n",
       " (63, 109, 0, 2, 37, 1, 2),\n",
       " (71, 158, 1, 2, 44, 0, 3),\n",
       " (61, 88, 0, 1, 37, 0, 3),\n",
       " (67, 132, 0, 2, 38, 0, 0),\n",
       " (62, 116, 0, 2, 39, 1, 2),\n",
       " (71, 125, 1, 2, 42, 0, 2),\n",
       " (63, 125, 0, 2, 39, 1, 4),\n",
       " (68, 121, 1, 2, 40, 0, 0),\n",
       " (67, 145, 0, 1, 39, 1, 3),\n",
       " (65, 99, 0, 2, 38, 1, 4),\n",
       " (61, 98, 0, 3, 37, 0, 3),\n",
       " (70, 167, 1, 2, 42, 0, 0),\n",
       " (64, 122, 1, 2, 42, 0, 0),\n",
       " (61, 156, 1, 3, 41, 0, 2),\n",
       " (69, 178, 1, 0, 44, 0, 0),\n",
       " (72, 150, 0, 2, 43, 0, 2),\n",
       " (70, 160, 0, 1, 42, 0, 0),\n",
       " (67, 167, 1, 2, 42, 0, 2),\n",
       " (72, 153, 1, 2, 42, 0, 0),\n",
       " (67, 130, 1, 2, 40, 0, 0),\n",
       " (72, 154, 1, 2, 42, 0, 0),\n",
       " (67, 119, 1, 2, 40, 0, 2),\n",
       " (65, 160, 0, 2, 41, 0, 2),\n",
       " (70, 121, 1, 2, 45, 0, 2),\n",
       " (63, 103, 0, 1, 38, 0, 2),\n",
       " (74, 218, 0, 2, 43, 0, 0),\n",
       " (72, 145, 1, 2, 42, 0, 2),\n",
       " (67, 99, 0, 1, 39, 1, 3),\n",
       " (69, 209, 1, 2, 43, 0, 2),\n",
       " (67, 143, 1, 2, 38, 0, 2),\n",
       " (70, 209, 0, 2, 44, 0, 2),\n",
       " (71, 145, 1, 2, 44, 0, 2),\n",
       " (72, 185, 1, 3, 44, 0, 2),\n",
       " (65, 96, 0, 1, 37, 1, 4),\n",
       " (60, 125, 0, 1, 38, 1, 3),\n",
       " (70, 166, 1, 0, 40, 0, 0),\n",
       " (63, 102, 0, 1, 38, 1, 4),\n",
       " (67, 133, 1, 3, 40, 0, 0),\n",
       " (62, 105, 0, 2, 37, 1, 0),\n",
       " (71, 168, 1, 3, 42, 0, 0),\n",
       " (62, 100, 0, 1, 38, 0, 2),\n",
       " (74, 202, 0, 2, 43, 0, 0),\n",
       " (72, 165, 1, 2, 44, 0, 2),\n",
       " (65, 98, 0, 1, 38, 1, 3),\n",
       " (67, 145, 0, 1, 39, 1, 4),\n",
       " (65, 99, 0, 3, 39, 1, 4),\n",
       " (61, 98, 0, 3, 37, 0, 2),\n",
       " (67, 119, 1, 3, 40, 0, 0),\n",
       " (70, 190, 1, 2, 43, 0, 3),\n",
       " (62, 142, 1, 1, 37, 0, 1)]"
      ]
     },
     "execution_count": 37,
     "metadata": {},
     "output_type": "execute_result"
    }
   ],
   "source": [
    "X = list(zip(data.height, data.weight, b_encoder, h_encoder,data.shoe_size, s_encoder, e_encoder))\n",
    "Y = g_encoder\n",
    "X"
   ]
  },
  {
   "cell_type": "code",
   "execution_count": 38,
   "id": "7e84a5e3",
   "metadata": {},
   "outputs": [],
   "source": [
    "X_train, X_test, Y_train, Y_test = train_test_split(X, Y, test_size = 0.33, random_state = 2)"
   ]
  },
  {
   "cell_type": "code",
   "execution_count": 39,
   "id": "db6c9a21",
   "metadata": {},
   "outputs": [],
   "source": [
    "model= RandomForestClassifier()"
   ]
  },
  {
   "cell_type": "code",
   "execution_count": 40,
   "id": "1ab95e96",
   "metadata": {},
   "outputs": [
    {
     "data": {
      "text/plain": [
       "RandomForestClassifier()"
      ]
     },
     "execution_count": 40,
     "metadata": {},
     "output_type": "execute_result"
    }
   ],
   "source": [
    "model.fit(X_train,Y_train)"
   ]
  },
  {
   "cell_type": "code",
   "execution_count": 41,
   "id": "feeb384f",
   "metadata": {},
   "outputs": [],
   "source": [
    "prediction = model.predict(X_test)"
   ]
  },
  {
   "cell_type": "code",
   "execution_count": 42,
   "id": "f2e7ed74",
   "metadata": {},
   "outputs": [
    {
     "name": "stdout",
     "output_type": "stream",
     "text": [
      "[[10  0]\n",
      " [ 0 17]]\n",
      "              precision    recall  f1-score   support\n",
      "\n",
      "           0       1.00      1.00      1.00        10\n",
      "           1       1.00      1.00      1.00        17\n",
      "\n",
      "    accuracy                           1.00        27\n",
      "   macro avg       1.00      1.00      1.00        27\n",
      "weighted avg       1.00      1.00      1.00        27\n",
      "\n",
      "100.0\n"
     ]
    }
   ],
   "source": [
    "model_cm = metrics.confusion_matrix(Y_test, prediction)\n",
    "print(model_cm)\n",
    "model_cl_rep = metrics.classification_report(Y_test, prediction)\n",
    "print(model_cl_rep)\n",
    "model_acc = accuracy_score(Y_test, prediction)*100\n",
    "print(model_acc)"
   ]
  },
  {
   "cell_type": "code",
   "execution_count": 43,
   "id": "aa33f455",
   "metadata": {},
   "outputs": [],
   "source": [
    "model = SVC()"
   ]
  },
  {
   "cell_type": "code",
   "execution_count": 44,
   "id": "9d4d71e8",
   "metadata": {},
   "outputs": [
    {
     "data": {
      "text/plain": [
       "SVC()"
      ]
     },
     "execution_count": 44,
     "metadata": {},
     "output_type": "execute_result"
    }
   ],
   "source": [
    "model.fit(X_train,Y_train)"
   ]
  },
  {
   "cell_type": "code",
   "execution_count": 45,
   "id": "8602efc8",
   "metadata": {},
   "outputs": [],
   "source": [
    "prediction = model.predict(X_test)"
   ]
  },
  {
   "cell_type": "code",
   "execution_count": 46,
   "id": "b60b55fc",
   "metadata": {},
   "outputs": [
    {
     "name": "stdout",
     "output_type": "stream",
     "text": [
      "              precision    recall  f1-score   support\n",
      "\n",
      "           0       0.70      0.70      0.70        10\n",
      "           1       0.82      0.82      0.82        17\n",
      "\n",
      "    accuracy                           0.78        27\n",
      "   macro avg       0.76      0.76      0.76        27\n",
      "weighted avg       0.78      0.78      0.78        27\n",
      "\n",
      "[[ 7  3]\n",
      " [ 3 14]]\n",
      "77.77777777777779\n"
     ]
    }
   ],
   "source": [
    "model_cl_rep = metrics.classification_report(Y_test, prediction)\n",
    "print(model_cl_rep)\n",
    "model_cm = metrics.confusion_matrix(Y_test, prediction)\n",
    "print(model_cm)\n",
    "model_acc = accuracy_score(Y_test, prediction)*100\n",
    "print(model_acc)"
   ]
  },
  {
   "cell_type": "code",
   "execution_count": 47,
   "id": "4a1bd425",
   "metadata": {},
   "outputs": [],
   "source": [
    "model = Perceptron()"
   ]
  },
  {
   "cell_type": "code",
   "execution_count": 48,
   "id": "b4ff7cd5",
   "metadata": {},
   "outputs": [
    {
     "data": {
      "text/plain": [
       "Perceptron()"
      ]
     },
     "execution_count": 48,
     "metadata": {},
     "output_type": "execute_result"
    }
   ],
   "source": [
    "model.fit(X_train,Y_train)"
   ]
  },
  {
   "cell_type": "code",
   "execution_count": 49,
   "id": "7f6f556e",
   "metadata": {},
   "outputs": [],
   "source": [
    "prediction = model.predict(X_test)"
   ]
  },
  {
   "cell_type": "code",
   "execution_count": 50,
   "id": "b3e04092",
   "metadata": {},
   "outputs": [
    {
     "name": "stdout",
     "output_type": "stream",
     "text": [
      "[[ 9  1]\n",
      " [ 7 10]]\n",
      "              precision    recall  f1-score   support\n",
      "\n",
      "           0       0.56      0.90      0.69        10\n",
      "           1       0.91      0.59      0.71        17\n",
      "\n",
      "    accuracy                           0.70        27\n",
      "   macro avg       0.74      0.74      0.70        27\n",
      "weighted avg       0.78      0.70      0.71        27\n",
      "\n",
      "70.37037037037037\n"
     ]
    }
   ],
   "source": [
    "model_cm = metrics.confusion_matrix(Y_test, prediction)\n",
    "print(model_cm)\n",
    "model_cl_rep = metrics.classification_report(Y_test, prediction)\n",
    "print(model_cl_rep)\n",
    "model_acc = accuracy_score(Y_test, prediction)*100\n",
    "print(model_acc)"
   ]
  },
  {
   "cell_type": "code",
   "execution_count": 51,
   "id": "749079d1",
   "metadata": {},
   "outputs": [],
   "source": [
    "#2. Rerun the experiment using train/test split ratio of 80/20. Do you see any change in the results? Explain."
   ]
  },
  {
   "cell_type": "code",
   "execution_count": 52,
   "id": "007578c7",
   "metadata": {},
   "outputs": [],
   "source": [
    "X_train, X_test, Y_train, Y_test = train_test_split(X, Y, test_size = 0.20, random_state = 2)"
   ]
  },
  {
   "cell_type": "code",
   "execution_count": 53,
   "id": "5ed1f723",
   "metadata": {},
   "outputs": [],
   "source": [
    "model= RandomForestClassifier()\n",
    "model.fit(X_train,Y_train)\n",
    "prediction = model.predict(X_test)"
   ]
  },
  {
   "cell_type": "code",
   "execution_count": 54,
   "id": "68c9cf2b",
   "metadata": {},
   "outputs": [
    {
     "name": "stdout",
     "output_type": "stream",
     "text": [
      "[[ 6  0]\n",
      " [ 0 10]]\n",
      "              precision    recall  f1-score   support\n",
      "\n",
      "           0       1.00      1.00      1.00         6\n",
      "           1       1.00      1.00      1.00        10\n",
      "\n",
      "    accuracy                           1.00        16\n",
      "   macro avg       1.00      1.00      1.00        16\n",
      "weighted avg       1.00      1.00      1.00        16\n",
      "\n",
      "100.0\n"
     ]
    }
   ],
   "source": [
    "model_cm = metrics.confusion_matrix(Y_test, prediction)\n",
    "print(model_cm)\n",
    "model_cl_rep = metrics.classification_report(Y_test, prediction)\n",
    "print(model_cl_rep)\n",
    "model_acc = accuracy_score(Y_test, prediction)*100\n",
    "print(model_acc)"
   ]
  },
  {
   "cell_type": "code",
   "execution_count": 55,
   "id": "e3110ba7",
   "metadata": {},
   "outputs": [],
   "source": [
    "model = SVC()\n",
    "model.fit(X_train,Y_train)\n",
    "prediction = model.predict(X_test)"
   ]
  },
  {
   "cell_type": "code",
   "execution_count": 56,
   "id": "bdfb5c46",
   "metadata": {},
   "outputs": [
    {
     "name": "stdout",
     "output_type": "stream",
     "text": [
      "              precision    recall  f1-score   support\n",
      "\n",
      "           0       0.80      0.67      0.73         6\n",
      "           1       0.82      0.90      0.86        10\n",
      "\n",
      "    accuracy                           0.81        16\n",
      "   macro avg       0.81      0.78      0.79        16\n",
      "weighted avg       0.81      0.81      0.81        16\n",
      "\n",
      "[[4 2]\n",
      " [1 9]]\n",
      "81.25\n"
     ]
    }
   ],
   "source": [
    "model_cl_rep = metrics.classification_report(Y_test, prediction)\n",
    "print(model_cl_rep)\n",
    "model_cm = metrics.confusion_matrix(Y_test, prediction)\n",
    "print(model_cm)\n",
    "model_acc = accuracy_score(Y_test, prediction)*100\n",
    "print(model_acc)"
   ]
  },
  {
   "cell_type": "code",
   "execution_count": 57,
   "id": "d3d69f5d",
   "metadata": {},
   "outputs": [],
   "source": [
    "model = Perceptron()\n",
    "model.fit(X_train,Y_train)\n",
    "prediction = model.predict(X_test)"
   ]
  },
  {
   "cell_type": "code",
   "execution_count": 58,
   "id": "f50fcb66",
   "metadata": {},
   "outputs": [
    {
     "name": "stdout",
     "output_type": "stream",
     "text": [
      "              precision    recall  f1-score   support\n",
      "\n",
      "           0       0.75      0.50      0.60         6\n",
      "           1       0.75      0.90      0.82        10\n",
      "\n",
      "    accuracy                           0.75        16\n",
      "   macro avg       0.75      0.70      0.71        16\n",
      "weighted avg       0.75      0.75      0.74        16\n",
      "\n",
      "[[3 3]\n",
      " [1 9]]\n",
      "75.0\n"
     ]
    }
   ],
   "source": [
    "model_cl_rep = metrics.classification_report(Y_test, prediction)\n",
    "print(model_cl_rep)\n",
    "model_cm = metrics.confusion_matrix(Y_test, prediction)\n",
    "print(model_cm)\n",
    "model_acc = accuracy_score(Y_test, prediction)*100\n",
    "print(model_acc)"
   ]
  },
  {
   "cell_type": "code",
   "execution_count": 59,
   "id": "2acbb706",
   "metadata": {},
   "outputs": [],
   "source": [
    "#4. Try to exclude these 2 attribute(s) from the dataset. Rerun the experiment (using 80/20 train/test split), did you find any change in the results? Explain."
   ]
  },
  {
   "cell_type": "code",
   "execution_count": 60,
   "id": "22237158",
   "metadata": {},
   "outputs": [
    {
     "data": {
      "text/html": [
       "<div>\n",
       "<style scoped>\n",
       "    .dataframe tbody tr th:only-of-type {\n",
       "        vertical-align: middle;\n",
       "    }\n",
       "\n",
       "    .dataframe tbody tr th {\n",
       "        vertical-align: top;\n",
       "    }\n",
       "\n",
       "    .dataframe thead th {\n",
       "        text-align: right;\n",
       "    }\n",
       "</style>\n",
       "<table border=\"1\" class=\"dataframe\">\n",
       "  <thead>\n",
       "    <tr style=\"text-align: right;\">\n",
       "      <th></th>\n",
       "      <th>height</th>\n",
       "      <th>weight</th>\n",
       "      <th>hair_length</th>\n",
       "      <th>shoe_size</th>\n",
       "      <th>eye_color</th>\n",
       "    </tr>\n",
       "  </thead>\n",
       "  <tbody>\n",
       "    <tr>\n",
       "      <th>0</th>\n",
       "      <td>71</td>\n",
       "      <td>176</td>\n",
       "      <td>short</td>\n",
       "      <td>44</td>\n",
       "      <td>black</td>\n",
       "    </tr>\n",
       "    <tr>\n",
       "      <th>1</th>\n",
       "      <td>68</td>\n",
       "      <td>165</td>\n",
       "      <td>bald</td>\n",
       "      <td>41</td>\n",
       "      <td>black</td>\n",
       "    </tr>\n",
       "    <tr>\n",
       "      <th>2</th>\n",
       "      <td>62</td>\n",
       "      <td>132</td>\n",
       "      <td>medium</td>\n",
       "      <td>37</td>\n",
       "      <td>blue</td>\n",
       "    </tr>\n",
       "    <tr>\n",
       "      <th>3</th>\n",
       "      <td>65</td>\n",
       "      <td>138</td>\n",
       "      <td>long</td>\n",
       "      <td>38</td>\n",
       "      <td>gray</td>\n",
       "    </tr>\n",
       "    <tr>\n",
       "      <th>4</th>\n",
       "      <td>70</td>\n",
       "      <td>197</td>\n",
       "      <td>medium</td>\n",
       "      <td>43</td>\n",
       "      <td>gray</td>\n",
       "    </tr>\n",
       "    <tr>\n",
       "      <th>...</th>\n",
       "      <td>...</td>\n",
       "      <td>...</td>\n",
       "      <td>...</td>\n",
       "      <td>...</td>\n",
       "      <td>...</td>\n",
       "    </tr>\n",
       "    <tr>\n",
       "      <th>75</th>\n",
       "      <td>65</td>\n",
       "      <td>99</td>\n",
       "      <td>short</td>\n",
       "      <td>39</td>\n",
       "      <td>green</td>\n",
       "    </tr>\n",
       "    <tr>\n",
       "      <th>76</th>\n",
       "      <td>61</td>\n",
       "      <td>98</td>\n",
       "      <td>short</td>\n",
       "      <td>37</td>\n",
       "      <td>brown</td>\n",
       "    </tr>\n",
       "    <tr>\n",
       "      <th>77</th>\n",
       "      <td>67</td>\n",
       "      <td>119</td>\n",
       "      <td>short</td>\n",
       "      <td>40</td>\n",
       "      <td>black</td>\n",
       "    </tr>\n",
       "    <tr>\n",
       "      <th>78</th>\n",
       "      <td>70</td>\n",
       "      <td>190</td>\n",
       "      <td>medium</td>\n",
       "      <td>43</td>\n",
       "      <td>gray</td>\n",
       "    </tr>\n",
       "    <tr>\n",
       "      <th>79</th>\n",
       "      <td>62</td>\n",
       "      <td>142</td>\n",
       "      <td>long</td>\n",
       "      <td>37</td>\n",
       "      <td>blue</td>\n",
       "    </tr>\n",
       "  </tbody>\n",
       "</table>\n",
       "<p>80 rows × 5 columns</p>\n",
       "</div>"
      ],
      "text/plain": [
       "    height  weight hair_length  shoe_size eye_color\n",
       "0       71     176       short         44     black\n",
       "1       68     165        bald         41     black\n",
       "2       62     132      medium         37      blue\n",
       "3       65     138        long         38      gray\n",
       "4       70     197      medium         43      gray\n",
       "..     ...     ...         ...        ...       ...\n",
       "75      65      99       short         39     green\n",
       "76      61      98       short         37     brown\n",
       "77      67     119       short         40     black\n",
       "78      70     190      medium         43      gray\n",
       "79      62     142        long         37      blue\n",
       "\n",
       "[80 rows x 5 columns]"
      ]
     },
     "execution_count": 60,
     "metadata": {},
     "output_type": "execute_result"
    }
   ],
   "source": [
    "data = df_gender.drop(['beard','scarf','gender'],axis=1)\n",
    "data"
   ]
  },
  {
   "cell_type": "code",
   "execution_count": 61,
   "id": "894754bb",
   "metadata": {},
   "outputs": [
    {
     "data": {
      "text/plain": [
       "[(71, 176, 3, 44, 0),\n",
       " (68, 165, 0, 41, 0),\n",
       " (62, 132, 2, 37, 1),\n",
       " (65, 138, 1, 38, 3),\n",
       " (70, 197, 2, 43, 3),\n",
       " (71, 190, 3, 43, 0),\n",
       " (74, 201, 0, 44, 2),\n",
       " (74, 182, 3, 46, 2),\n",
       " (63, 127, 3, 35, 4),\n",
       " (65, 139, 2, 37, 3),\n",
       " (66, 125, 1, 36, 3),\n",
       " (73, 188, 3, 42, 3),\n",
       " (74, 167, 2, 41, 0),\n",
       " (68, 141, 1, 38, 3),\n",
       " (70, 199, 2, 40, 0),\n",
       " (73, 189, 3, 43, 1),\n",
       " (69, 159, 3, 43, 0),\n",
       " (68, 135, 1, 37, 4),\n",
       " (68, 145, 1, 38, 3),\n",
       " (66, 138, 2, 37, 4),\n",
       " (66, 132, 2, 40, 0),\n",
       " (71, 170, 2, 42, 0),\n",
       " (67, 119, 3, 40, 0),\n",
       " (70, 190, 2, 43, 3),\n",
       " (68, 154, 2, 38, 2),\n",
       " (71, 155, 2, 45, 2),\n",
       " (69, 121, 2, 41, 0),\n",
       " (68, 97, 2, 39, 4),\n",
       " (68, 158, 1, 38, 1),\n",
       " (58, 92, 3, 40, 3),\n",
       " (63, 109, 2, 37, 2),\n",
       " (71, 158, 2, 44, 3),\n",
       " (61, 88, 1, 37, 3),\n",
       " (67, 132, 2, 38, 0),\n",
       " (62, 116, 2, 39, 2),\n",
       " (71, 125, 2, 42, 2),\n",
       " (63, 125, 2, 39, 4),\n",
       " (68, 121, 2, 40, 0),\n",
       " (67, 145, 1, 39, 3),\n",
       " (65, 99, 2, 38, 4),\n",
       " (61, 98, 3, 37, 3),\n",
       " (70, 167, 2, 42, 0),\n",
       " (64, 122, 2, 42, 0),\n",
       " (61, 156, 3, 41, 2),\n",
       " (69, 178, 0, 44, 0),\n",
       " (72, 150, 2, 43, 2),\n",
       " (70, 160, 1, 42, 0),\n",
       " (67, 167, 2, 42, 2),\n",
       " (72, 153, 2, 42, 0),\n",
       " (67, 130, 2, 40, 0),\n",
       " (72, 154, 2, 42, 0),\n",
       " (67, 119, 2, 40, 2),\n",
       " (65, 160, 2, 41, 2),\n",
       " (70, 121, 2, 45, 2),\n",
       " (63, 103, 1, 38, 2),\n",
       " (74, 218, 2, 43, 0),\n",
       " (72, 145, 2, 42, 2),\n",
       " (67, 99, 1, 39, 3),\n",
       " (69, 209, 2, 43, 2),\n",
       " (67, 143, 2, 38, 2),\n",
       " (70, 209, 2, 44, 2),\n",
       " (71, 145, 2, 44, 2),\n",
       " (72, 185, 3, 44, 2),\n",
       " (65, 96, 1, 37, 4),\n",
       " (60, 125, 1, 38, 3),\n",
       " (70, 166, 0, 40, 0),\n",
       " (63, 102, 1, 38, 4),\n",
       " (67, 133, 3, 40, 0),\n",
       " (62, 105, 2, 37, 0),\n",
       " (71, 168, 3, 42, 0),\n",
       " (62, 100, 1, 38, 2),\n",
       " (74, 202, 2, 43, 0),\n",
       " (72, 165, 2, 44, 2),\n",
       " (65, 98, 1, 38, 3),\n",
       " (67, 145, 1, 39, 4),\n",
       " (65, 99, 3, 39, 4),\n",
       " (61, 98, 3, 37, 2),\n",
       " (67, 119, 3, 40, 0),\n",
       " (70, 190, 2, 43, 3),\n",
       " (62, 142, 1, 37, 1)]"
      ]
     },
     "execution_count": 61,
     "metadata": {},
     "output_type": "execute_result"
    }
   ],
   "source": [
    "X = list(zip(data.height, data.weight, h_encoder,data.shoe_size, e_encoder))\n",
    "Y = g_encoder\n",
    "X"
   ]
  },
  {
   "cell_type": "code",
   "execution_count": 62,
   "id": "2c9e2667",
   "metadata": {},
   "outputs": [],
   "source": [
    "X_train, X_test, Y_train, Y_test = train_test_split(X, Y, test_size = 0.20, random_state = 2)"
   ]
  },
  {
   "cell_type": "code",
   "execution_count": 63,
   "id": "7044e749",
   "metadata": {},
   "outputs": [],
   "source": [
    "model= RandomForestClassifier()\n",
    "model.fit(X_train,Y_train)\n",
    "prediction = model.predict(X_test)"
   ]
  },
  {
   "cell_type": "code",
   "execution_count": 64,
   "id": "b40f7d42",
   "metadata": {},
   "outputs": [
    {
     "name": "stdout",
     "output_type": "stream",
     "text": [
      "[[ 6  0]\n",
      " [ 0 10]]\n",
      "              precision    recall  f1-score   support\n",
      "\n",
      "           0       1.00      1.00      1.00         6\n",
      "           1       1.00      1.00      1.00        10\n",
      "\n",
      "    accuracy                           1.00        16\n",
      "   macro avg       1.00      1.00      1.00        16\n",
      "weighted avg       1.00      1.00      1.00        16\n",
      "\n",
      "100.0\n"
     ]
    }
   ],
   "source": [
    "model_cm = metrics.confusion_matrix(Y_test, prediction)\n",
    "print(model_cm)\n",
    "model_cl_rep = metrics.classification_report(Y_test, prediction)\n",
    "print(model_cl_rep)\n",
    "model_acc = accuracy_score(Y_test, prediction)*100\n",
    "print(model_acc)"
   ]
  },
  {
   "cell_type": "code",
   "execution_count": 65,
   "id": "149cfa05",
   "metadata": {},
   "outputs": [],
   "source": [
    "model= SVC()\n",
    "model.fit(X_train,Y_train)\n",
    "prediction = model.predict(X_test)"
   ]
  },
  {
   "cell_type": "code",
   "execution_count": 66,
   "id": "5cddf575",
   "metadata": {},
   "outputs": [
    {
     "name": "stdout",
     "output_type": "stream",
     "text": [
      "[[4 2]\n",
      " [1 9]]\n",
      "              precision    recall  f1-score   support\n",
      "\n",
      "           0       0.80      0.67      0.73         6\n",
      "           1       0.82      0.90      0.86        10\n",
      "\n",
      "    accuracy                           0.81        16\n",
      "   macro avg       0.81      0.78      0.79        16\n",
      "weighted avg       0.81      0.81      0.81        16\n",
      "\n",
      "81.25\n"
     ]
    }
   ],
   "source": [
    "model_cm = metrics.confusion_matrix(Y_test, prediction)\n",
    "print(model_cm)\n",
    "model_cl_rep = metrics.classification_report(Y_test, prediction)\n",
    "print(model_cl_rep)\n",
    "model_acc = accuracy_score(Y_test, prediction)*100\n",
    "print(model_acc)"
   ]
  },
  {
   "cell_type": "code",
   "execution_count": 67,
   "id": "edf38c33",
   "metadata": {},
   "outputs": [],
   "source": [
    "model = Perceptron()\n",
    "model.fit(X_train,Y_train)\n",
    "prediction = model.predict(X_test)"
   ]
  },
  {
   "cell_type": "code",
   "execution_count": 68,
   "id": "013710ca",
   "metadata": {},
   "outputs": [
    {
     "name": "stdout",
     "output_type": "stream",
     "text": [
      "[[3 3]\n",
      " [1 9]]\n",
      "              precision    recall  f1-score   support\n",
      "\n",
      "           0       0.75      0.50      0.60         6\n",
      "           1       0.75      0.90      0.82        10\n",
      "\n",
      "    accuracy                           0.75        16\n",
      "   macro avg       0.75      0.70      0.71        16\n",
      "weighted avg       0.75      0.75      0.74        16\n",
      "\n",
      "75.0\n"
     ]
    }
   ],
   "source": [
    "model_cm = metrics.confusion_matrix(Y_test, prediction)\n",
    "print(model_cm)\n",
    "model_cl_rep = metrics.classification_report(Y_test, prediction)\n",
    "print(model_cl_rep)\n",
    "model_acc = accuracy_score(Y_test, prediction)*100\n",
    "print(model_acc)"
   ]
  },
  {
   "cell_type": "code",
   "execution_count": 69,
   "id": "252aa269",
   "metadata": {},
   "outputs": [],
   "source": [
    "#Q3: Apply Decision Tree Classifier classification algorithm (using Python) on the gender prediction dataset with Monte Carlo cross-validation and Leave P-Out cross-validation. Report F1 score for both cross-validation strategies"
   ]
  },
  {
   "cell_type": "code",
   "execution_count": 70,
   "id": "f3ae0f8d",
   "metadata": {},
   "outputs": [],
   "source": [
    "#Leave P-Out cross-validation"
   ]
  },
  {
   "cell_type": "code",
   "execution_count": 71,
   "id": "2a1904ff",
   "metadata": {},
   "outputs": [],
   "source": [
    "model = DecisionTreeClassifier()"
   ]
  },
  {
   "cell_type": "code",
   "execution_count": 72,
   "id": "8cad040a",
   "metadata": {},
   "outputs": [],
   "source": [
    "prediction = model_selection.cross_val_predict(model, X, y_encoded, cv=5)"
   ]
  },
  {
   "cell_type": "code",
   "execution_count": 73,
   "id": "81afc27e",
   "metadata": {},
   "outputs": [
    {
     "name": "stdout",
     "output_type": "stream",
     "text": [
      "0.9473684210526316\n"
     ]
    }
   ],
   "source": [
    "model_fscore = f1_score(y_encoded, prediction)\n",
    "print(model_fscore)"
   ]
  },
  {
   "cell_type": "code",
   "execution_count": 74,
   "id": "6a3238b3",
   "metadata": {},
   "outputs": [],
   "source": [
    "#Monte Carlo cross-validation"
   ]
  },
  {
   "cell_type": "code",
   "execution_count": 75,
   "id": "76080d03",
   "metadata": {},
   "outputs": [],
   "source": [
    "model = DecisionTreeClassifier()"
   ]
  },
  {
   "cell_type": "code",
   "execution_count": 76,
   "id": "5a002901",
   "metadata": {},
   "outputs": [],
   "source": [
    "prediction = model_selection.cross_val_predict(model, X, y_encoded, cv=10)"
   ]
  },
  {
   "cell_type": "code",
   "execution_count": 77,
   "id": "9d38849f",
   "metadata": {},
   "outputs": [
    {
     "name": "stdout",
     "output_type": "stream",
     "text": [
      "0.967741935483871\n"
     ]
    }
   ],
   "source": [
    "model_fscore = f1_score(y_encoded, prediction)\n",
    "print(model_fscore)"
   ]
  },
  {
   "cell_type": "code",
   "execution_count": 78,
   "id": "31218b8f",
   "metadata": {},
   "outputs": [],
   "source": [
    "#Q4: Add 5 sample instances into the dataset (you can ask your friends/relatives/sibling for the data). Rerun the ML experiment (using Python) by training the model using Gaussian Naïve Bayes classification algorithmand all the instances from the gender prediction dataset. Evaluate the trained model using the newly added testinstances. Report accuracy, precision, and recall scores"
   ]
  },
  {
   "cell_type": "code",
   "execution_count": 89,
   "id": "b63818cf",
   "metadata": {},
   "outputs": [
    {
     "data": {
      "text/html": [
       "<div>\n",
       "<style scoped>\n",
       "    .dataframe tbody tr th:only-of-type {\n",
       "        vertical-align: middle;\n",
       "    }\n",
       "\n",
       "    .dataframe tbody tr th {\n",
       "        vertical-align: top;\n",
       "    }\n",
       "\n",
       "    .dataframe thead th {\n",
       "        text-align: right;\n",
       "    }\n",
       "</style>\n",
       "<table border=\"1\" class=\"dataframe\">\n",
       "  <thead>\n",
       "    <tr style=\"text-align: right;\">\n",
       "      <th></th>\n",
       "      <th>height</th>\n",
       "      <th>weight</th>\n",
       "      <th>beard</th>\n",
       "      <th>hair_length</th>\n",
       "      <th>shoe_size</th>\n",
       "      <th>scarf</th>\n",
       "      <th>eye_color</th>\n",
       "      <th>gender</th>\n",
       "    </tr>\n",
       "  </thead>\n",
       "  <tbody>\n",
       "    <tr>\n",
       "      <th>0</th>\n",
       "      <td>71</td>\n",
       "      <td>176</td>\n",
       "      <td>yes</td>\n",
       "      <td>short</td>\n",
       "      <td>44</td>\n",
       "      <td>no</td>\n",
       "      <td>black</td>\n",
       "      <td>male</td>\n",
       "    </tr>\n",
       "    <tr>\n",
       "      <th>1</th>\n",
       "      <td>68</td>\n",
       "      <td>165</td>\n",
       "      <td>no</td>\n",
       "      <td>bald</td>\n",
       "      <td>41</td>\n",
       "      <td>no</td>\n",
       "      <td>black</td>\n",
       "      <td>male</td>\n",
       "    </tr>\n",
       "    <tr>\n",
       "      <th>2</th>\n",
       "      <td>62</td>\n",
       "      <td>132</td>\n",
       "      <td>no</td>\n",
       "      <td>medium</td>\n",
       "      <td>37</td>\n",
       "      <td>yes</td>\n",
       "      <td>blue</td>\n",
       "      <td>female</td>\n",
       "    </tr>\n",
       "    <tr>\n",
       "      <th>3</th>\n",
       "      <td>65</td>\n",
       "      <td>138</td>\n",
       "      <td>no</td>\n",
       "      <td>long</td>\n",
       "      <td>38</td>\n",
       "      <td>no</td>\n",
       "      <td>gray</td>\n",
       "      <td>female</td>\n",
       "    </tr>\n",
       "    <tr>\n",
       "      <th>4</th>\n",
       "      <td>70</td>\n",
       "      <td>197</td>\n",
       "      <td>yes</td>\n",
       "      <td>medium</td>\n",
       "      <td>43</td>\n",
       "      <td>no</td>\n",
       "      <td>gray</td>\n",
       "      <td>male</td>\n",
       "    </tr>\n",
       "    <tr>\n",
       "      <th>...</th>\n",
       "      <td>...</td>\n",
       "      <td>...</td>\n",
       "      <td>...</td>\n",
       "      <td>...</td>\n",
       "      <td>...</td>\n",
       "      <td>...</td>\n",
       "      <td>...</td>\n",
       "      <td>...</td>\n",
       "    </tr>\n",
       "    <tr>\n",
       "      <th>80</th>\n",
       "      <td>72</td>\n",
       "      <td>153</td>\n",
       "      <td>yes</td>\n",
       "      <td>medium</td>\n",
       "      <td>42</td>\n",
       "      <td>no</td>\n",
       "      <td>black</td>\n",
       "      <td>male</td>\n",
       "    </tr>\n",
       "    <tr>\n",
       "      <th>81</th>\n",
       "      <td>67</td>\n",
       "      <td>130</td>\n",
       "      <td>yes</td>\n",
       "      <td>medium</td>\n",
       "      <td>40</td>\n",
       "      <td>no</td>\n",
       "      <td>black</td>\n",
       "      <td>male</td>\n",
       "    </tr>\n",
       "    <tr>\n",
       "      <th>82</th>\n",
       "      <td>72</td>\n",
       "      <td>154</td>\n",
       "      <td>yes</td>\n",
       "      <td>medium</td>\n",
       "      <td>42</td>\n",
       "      <td>no</td>\n",
       "      <td>black</td>\n",
       "      <td>male</td>\n",
       "    </tr>\n",
       "    <tr>\n",
       "      <th>83</th>\n",
       "      <td>67</td>\n",
       "      <td>119</td>\n",
       "      <td>yes</td>\n",
       "      <td>medium</td>\n",
       "      <td>40</td>\n",
       "      <td>no</td>\n",
       "      <td>brown</td>\n",
       "      <td>male</td>\n",
       "    </tr>\n",
       "    <tr>\n",
       "      <th>84</th>\n",
       "      <td>65</td>\n",
       "      <td>160</td>\n",
       "      <td>no</td>\n",
       "      <td>medium</td>\n",
       "      <td>41</td>\n",
       "      <td>no</td>\n",
       "      <td>brown</td>\n",
       "      <td>male</td>\n",
       "    </tr>\n",
       "  </tbody>\n",
       "</table>\n",
       "<p>85 rows × 8 columns</p>\n",
       "</div>"
      ],
      "text/plain": [
       "    height  weight beard hair_length  shoe_size scarf eye_color  gender\n",
       "0       71     176   yes       short         44    no     black    male\n",
       "1       68     165    no        bald         41    no     black    male\n",
       "2       62     132    no      medium         37   yes      blue  female\n",
       "3       65     138    no        long         38    no      gray  female\n",
       "4       70     197   yes      medium         43    no      gray    male\n",
       "..     ...     ...   ...         ...        ...   ...       ...     ...\n",
       "80      72     153   yes      medium         42    no     black    male\n",
       "81      67     130   yes      medium         40    no     black    male\n",
       "82      72     154   yes      medium         42    no     black    male\n",
       "83      67     119   yes      medium         40    no     brown    male\n",
       "84      65     160    no      medium         41    no     brown    male\n",
       "\n",
       "[85 rows x 8 columns]"
      ]
     },
     "execution_count": 89,
     "metadata": {},
     "output_type": "execute_result"
    }
   ],
   "source": [
    "df_gender = pd.read_csv('NewDataSet.csv')\n",
    "df_gender"
   ]
  },
  {
   "cell_type": "code",
   "execution_count": 90,
   "id": "5a7c4415",
   "metadata": {},
   "outputs": [],
   "source": [
    "labels = preprocessing.LabelEncoder()\n",
    "\n",
    "b_encoder = labels.fit_transform(df_gender.beard)\n",
    "h_encoder = labels.fit_transform(df_gender.hair_length)\n",
    "s_encoder = labels.fit_transform(df_gender.scarf)\n",
    "e_encoder = labels.fit_transform(df_gender.eye_color)\n",
    "g_encoder = labels.fit_transform(df_gender.gender)"
   ]
  },
  {
   "cell_type": "code",
   "execution_count": 91,
   "id": "c23970cf",
   "metadata": {},
   "outputs": [],
   "source": [
    "labels = preprocessing.LabelEncoder()\n",
    "y_encoded = labels.fit_transform(y)"
   ]
  },
  {
   "cell_type": "code",
   "execution_count": 92,
   "id": "320ec707",
   "metadata": {},
   "outputs": [
    {
     "data": {
      "text/html": [
       "<div>\n",
       "<style scoped>\n",
       "    .dataframe tbody tr th:only-of-type {\n",
       "        vertical-align: middle;\n",
       "    }\n",
       "\n",
       "    .dataframe tbody tr th {\n",
       "        vertical-align: top;\n",
       "    }\n",
       "\n",
       "    .dataframe thead th {\n",
       "        text-align: right;\n",
       "    }\n",
       "</style>\n",
       "<table border=\"1\" class=\"dataframe\">\n",
       "  <thead>\n",
       "    <tr style=\"text-align: right;\">\n",
       "      <th></th>\n",
       "      <th>height</th>\n",
       "      <th>weight</th>\n",
       "      <th>shoe_size</th>\n",
       "    </tr>\n",
       "  </thead>\n",
       "  <tbody>\n",
       "    <tr>\n",
       "      <th>0</th>\n",
       "      <td>71</td>\n",
       "      <td>176</td>\n",
       "      <td>44</td>\n",
       "    </tr>\n",
       "    <tr>\n",
       "      <th>1</th>\n",
       "      <td>68</td>\n",
       "      <td>165</td>\n",
       "      <td>41</td>\n",
       "    </tr>\n",
       "    <tr>\n",
       "      <th>2</th>\n",
       "      <td>62</td>\n",
       "      <td>132</td>\n",
       "      <td>37</td>\n",
       "    </tr>\n",
       "    <tr>\n",
       "      <th>3</th>\n",
       "      <td>65</td>\n",
       "      <td>138</td>\n",
       "      <td>38</td>\n",
       "    </tr>\n",
       "    <tr>\n",
       "      <th>4</th>\n",
       "      <td>70</td>\n",
       "      <td>197</td>\n",
       "      <td>43</td>\n",
       "    </tr>\n",
       "    <tr>\n",
       "      <th>...</th>\n",
       "      <td>...</td>\n",
       "      <td>...</td>\n",
       "      <td>...</td>\n",
       "    </tr>\n",
       "    <tr>\n",
       "      <th>80</th>\n",
       "      <td>72</td>\n",
       "      <td>153</td>\n",
       "      <td>42</td>\n",
       "    </tr>\n",
       "    <tr>\n",
       "      <th>81</th>\n",
       "      <td>67</td>\n",
       "      <td>130</td>\n",
       "      <td>40</td>\n",
       "    </tr>\n",
       "    <tr>\n",
       "      <th>82</th>\n",
       "      <td>72</td>\n",
       "      <td>154</td>\n",
       "      <td>42</td>\n",
       "    </tr>\n",
       "    <tr>\n",
       "      <th>83</th>\n",
       "      <td>67</td>\n",
       "      <td>119</td>\n",
       "      <td>40</td>\n",
       "    </tr>\n",
       "    <tr>\n",
       "      <th>84</th>\n",
       "      <td>65</td>\n",
       "      <td>160</td>\n",
       "      <td>41</td>\n",
       "    </tr>\n",
       "  </tbody>\n",
       "</table>\n",
       "<p>85 rows × 3 columns</p>\n",
       "</div>"
      ],
      "text/plain": [
       "    height  weight  shoe_size\n",
       "0       71     176         44\n",
       "1       68     165         41\n",
       "2       62     132         37\n",
       "3       65     138         38\n",
       "4       70     197         43\n",
       "..     ...     ...        ...\n",
       "80      72     153         42\n",
       "81      67     130         40\n",
       "82      72     154         42\n",
       "83      67     119         40\n",
       "84      65     160         41\n",
       "\n",
       "[85 rows x 3 columns]"
      ]
     },
     "execution_count": 92,
     "metadata": {},
     "output_type": "execute_result"
    }
   ],
   "source": [
    "data = df_gender.drop(['beard','hair_length','scarf','eye_color','gender'],axis=1)\n",
    "data"
   ]
  },
  {
   "cell_type": "code",
   "execution_count": 93,
   "id": "d456c37f",
   "metadata": {},
   "outputs": [
    {
     "data": {
      "text/plain": [
       "[(71, 176, 1, 3, 44, 0, 0),\n",
       " (68, 165, 0, 0, 41, 0, 0),\n",
       " (62, 132, 0, 2, 37, 1, 1),\n",
       " (65, 138, 0, 1, 38, 0, 3),\n",
       " (70, 197, 1, 2, 43, 0, 3),\n",
       " (71, 190, 1, 3, 43, 0, 0),\n",
       " (74, 201, 1, 0, 44, 0, 2),\n",
       " (74, 182, 0, 3, 46, 0, 2),\n",
       " (63, 127, 0, 3, 35, 0, 4),\n",
       " (65, 139, 0, 2, 37, 1, 3),\n",
       " (66, 125, 0, 1, 36, 0, 3),\n",
       " (73, 188, 1, 3, 42, 0, 3),\n",
       " (74, 167, 0, 2, 41, 0, 0),\n",
       " (68, 141, 0, 1, 38, 0, 3),\n",
       " (70, 199, 1, 2, 40, 0, 0),\n",
       " (73, 189, 1, 3, 43, 0, 1),\n",
       " (69, 159, 0, 3, 43, 0, 0),\n",
       " (68, 135, 0, 1, 37, 1, 4),\n",
       " (68, 145, 0, 1, 38, 1, 3),\n",
       " (66, 138, 0, 2, 37, 0, 4),\n",
       " (66, 132, 0, 2, 40, 0, 0),\n",
       " (71, 170, 1, 2, 42, 0, 0),\n",
       " (67, 119, 1, 3, 40, 0, 0),\n",
       " (70, 190, 1, 2, 43, 0, 3),\n",
       " (68, 154, 0, 2, 38, 1, 2),\n",
       " (71, 155, 1, 2, 45, 0, 2),\n",
       " (69, 121, 1, 2, 41, 0, 0),\n",
       " (68, 97, 0, 2, 39, 0, 4),\n",
       " (68, 158, 0, 1, 38, 0, 1),\n",
       " (58, 92, 0, 3, 40, 1, 3),\n",
       " (63, 109, 0, 2, 37, 1, 2),\n",
       " (71, 158, 1, 2, 44, 0, 3),\n",
       " (61, 88, 0, 1, 37, 0, 3),\n",
       " (67, 132, 0, 2, 38, 0, 0),\n",
       " (62, 116, 0, 2, 39, 1, 2),\n",
       " (71, 125, 1, 2, 42, 0, 2),\n",
       " (63, 125, 0, 2, 39, 1, 4),\n",
       " (68, 121, 1, 2, 40, 0, 0),\n",
       " (67, 145, 0, 1, 39, 1, 3),\n",
       " (65, 99, 0, 2, 38, 1, 4),\n",
       " (61, 98, 0, 3, 37, 0, 3),\n",
       " (70, 167, 1, 2, 42, 0, 0),\n",
       " (64, 122, 1, 2, 42, 0, 0),\n",
       " (61, 156, 1, 3, 41, 0, 2),\n",
       " (69, 178, 1, 0, 44, 0, 0),\n",
       " (72, 150, 0, 2, 43, 0, 2),\n",
       " (70, 160, 0, 1, 42, 0, 0),\n",
       " (67, 167, 1, 2, 42, 0, 2),\n",
       " (72, 153, 1, 2, 42, 0, 0),\n",
       " (67, 130, 1, 2, 40, 0, 0),\n",
       " (72, 154, 1, 2, 42, 0, 0),\n",
       " (67, 119, 1, 2, 40, 0, 2),\n",
       " (65, 160, 0, 2, 41, 0, 2),\n",
       " (70, 121, 1, 2, 45, 0, 2),\n",
       " (63, 103, 0, 1, 38, 0, 2),\n",
       " (74, 218, 0, 2, 43, 0, 0),\n",
       " (72, 145, 1, 2, 42, 0, 2),\n",
       " (67, 99, 0, 1, 39, 1, 3),\n",
       " (69, 209, 1, 2, 43, 0, 2),\n",
       " (67, 143, 1, 2, 38, 0, 2),\n",
       " (70, 209, 0, 2, 44, 0, 2),\n",
       " (71, 145, 1, 2, 44, 0, 2),\n",
       " (72, 185, 1, 3, 44, 0, 2),\n",
       " (65, 96, 0, 1, 37, 1, 4),\n",
       " (60, 125, 0, 1, 38, 1, 3),\n",
       " (70, 166, 1, 0, 40, 0, 0),\n",
       " (63, 102, 0, 1, 38, 1, 4),\n",
       " (67, 133, 1, 3, 40, 0, 0),\n",
       " (62, 105, 0, 2, 37, 1, 0),\n",
       " (71, 168, 1, 3, 42, 0, 0),\n",
       " (62, 100, 0, 1, 38, 0, 2),\n",
       " (74, 202, 0, 2, 43, 0, 0),\n",
       " (72, 165, 1, 2, 44, 0, 2),\n",
       " (65, 98, 0, 1, 38, 1, 3),\n",
       " (67, 145, 0, 1, 39, 1, 4),\n",
       " (65, 99, 0, 3, 39, 1, 4),\n",
       " (61, 98, 0, 3, 37, 0, 2),\n",
       " (67, 119, 1, 3, 40, 0, 0),\n",
       " (70, 190, 1, 2, 43, 0, 3),\n",
       " (62, 142, 1, 1, 37, 0, 1),\n",
       " (72, 153, 1, 2, 42, 0, 0),\n",
       " (67, 130, 1, 2, 40, 0, 0),\n",
       " (72, 154, 1, 2, 42, 0, 0),\n",
       " (67, 119, 1, 2, 40, 0, 2),\n",
       " (65, 160, 0, 2, 41, 0, 2)]"
      ]
     },
     "execution_count": 93,
     "metadata": {},
     "output_type": "execute_result"
    }
   ],
   "source": [
    "X = list(zip(data.height, data.weight, b_encoder, h_encoder,data.shoe_size, s_encoder, e_encoder))\n",
    "Y = g_encoder\n",
    "X"
   ]
  },
  {
   "cell_type": "code",
   "execution_count": 94,
   "id": "d21efbf7",
   "metadata": {},
   "outputs": [],
   "source": [
    "X_train, X_test, Y_train, Y_test = train_test_split(X, Y, test_size = 0.33, random_state = 2)"
   ]
  },
  {
   "cell_type": "code",
   "execution_count": 95,
   "id": "7f9f8d26",
   "metadata": {},
   "outputs": [],
   "source": [
    "model = GaussianNB()\n",
    "model.fit(X_train,Y_train)\n",
    "prediction = model.predict(X_test)"
   ]
  },
  {
   "cell_type": "code",
   "execution_count": 96,
   "id": "a3c407c8",
   "metadata": {},
   "outputs": [
    {
     "name": "stdout",
     "output_type": "stream",
     "text": [
      "93.10344827586206\n"
     ]
    }
   ],
   "source": [
    "model_acc = accuracy_score(Y_test, prediction)*100\n",
    "print(model_acc)"
   ]
  },
  {
   "cell_type": "code",
   "execution_count": 97,
   "id": "42532f8b",
   "metadata": {},
   "outputs": [
    {
     "name": "stdout",
     "output_type": "stream",
     "text": [
      "90.0\n"
     ]
    }
   ],
   "source": [
    "model_precision = precision_score(Y_test,prediction)*100\n",
    "print(model_precision)"
   ]
  },
  {
   "cell_type": "code",
   "execution_count": 98,
   "id": "3e474397",
   "metadata": {},
   "outputs": [
    {
     "name": "stdout",
     "output_type": "stream",
     "text": [
      "100.0\n"
     ]
    }
   ],
   "source": [
    "model_recall = recall_score(Y_test,prediction)*100\n",
    "print(model_recall)"
   ]
  },
  {
   "cell_type": "code",
   "execution_count": 99,
   "id": "bbb07e9b",
   "metadata": {},
   "outputs": [
    {
     "name": "stdout",
     "output_type": "stream",
     "text": [
      "              precision    recall  f1-score   support\n",
      "\n",
      "           0       1.00      0.82      0.90        11\n",
      "           1       0.90      1.00      0.95        18\n",
      "\n",
      "    accuracy                           0.93        29\n",
      "   macro avg       0.95      0.91      0.92        29\n",
      "weighted avg       0.94      0.93      0.93        29\n",
      "\n"
     ]
    }
   ],
   "source": [
    "model_cl_rep = metrics.classification_report(Y_test, prediction)\n",
    "print(model_cl_rep)"
   ]
  }
 ],
 "metadata": {
  "kernelspec": {
   "display_name": "Python 3 (ipykernel)",
   "language": "python",
   "name": "python3"
  },
  "language_info": {
   "codemirror_mode": {
    "name": "ipython",
    "version": 3
   },
   "file_extension": ".py",
   "mimetype": "text/x-python",
   "name": "python",
   "nbconvert_exporter": "python",
   "pygments_lexer": "ipython3",
   "version": "3.9.12"
  }
 },
 "nbformat": 4,
 "nbformat_minor": 5
}
