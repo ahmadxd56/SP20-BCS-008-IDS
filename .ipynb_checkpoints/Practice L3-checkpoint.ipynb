{
 "cells": [
  {
   "cell_type": "code",
   "execution_count": 2,
   "id": "05b597bd",
   "metadata": {},
   "outputs": [],
   "source": [
    "import re"
   ]
  },
  {
   "cell_type": "code",
   "execution_count": 4,
   "id": "238afe35",
   "metadata": {},
   "outputs": [
    {
     "name": "stdout",
     "output_type": "stream",
     "text": [
      "Start: 41\n",
      "End: 53\n"
     ]
    }
   ],
   "source": [
    "text = \"This course will introduce the basics of data science\"\n",
    "result = re.search(r\"data science\", text)\n",
    "print(\"Start: \" + str(result.start()))\n",
    "print(\"End: \" + str(result.end()))\n"
   ]
  },
  {
   "cell_type": "code",
   "execution_count": 5,
   "id": "83788f80",
   "metadata": {},
   "outputs": [
    {
     "name": "stdout",
     "output_type": "stream",
     "text": [
      "<re.Match object; span=(0, 6), match='csc001'>\n"
     ]
    }
   ],
   "source": [
    "text = \"csc001 my name is ahmed and I am a good student and person(man)\"\n",
    " \n",
    "\n",
    "for result in re.finditer(r'csc\\S*001',text):\n",
    "    print(result)\n"
   ]
  },
  {
   "cell_type": "code",
   "execution_count": 6,
   "id": "a4f92012",
   "metadata": {},
   "outputs": [
    {
     "name": "stdout",
     "output_type": "stream",
     "text": [
      "<re.Match object; span=(8, 16), match='rohan.py'>\n"
     ]
    }
   ],
   "source": [
    "text = \"ahmad.c rohan.py faseeh.cpp\"\n",
    " \n",
    "\n",
    "for result in re.finditer(r'[\\w]+.py',text):\n",
    "    print(result)\n"
   ]
  },
  {
   "cell_type": "code",
   "execution_count": 8,
   "id": "e4d4fe17",
   "metadata": {},
   "outputs": [],
   "source": [
    "String= \"This contains two files, assignment1.py and ids.py\"\n",
    "    \n"
   ]
  },
  {
   "cell_type": "code",
   "execution_count": 9,
   "id": "783dcc19",
   "metadata": {},
   "outputs": [
    {
     "name": "stdout",
     "output_type": "stream",
     "text": [
      "<re.Match object; span=(33, 41), match='Word doc'>\n",
      "<re.Match object; span=(49, 57), match='bscs.doc'>\n",
      "<re.Match object; span=(64, 72), match='bsse.doc'>\n",
      "['Word doc', 'bscs.doc', 'bsse.doc']\n"
     ]
    }
   ],
   "source": [
    "String = \"Please edit the following two MS Word documents (bscs.doc) and (bsse.docx), and share with us\"\n",
    "\n",
    "list_ = []\n",
    "for result in re.finditer(r'[\\w]+\\.doc',String):\n",
    "    list_.append(result.group(0))\n",
    "    print(result)\n",
    "\n",
    "print(list_)"
   ]
  }
 ],
 "metadata": {
  "kernelspec": {
   "display_name": "Python 3 (ipykernel)",
   "language": "python",
   "name": "python3"
  },
  "language_info": {
   "codemirror_mode": {
    "name": "ipython",
    "version": 3
   },
   "file_extension": ".py",
   "mimetype": "text/x-python",
   "name": "python",
   "nbconvert_exporter": "python",
   "pygments_lexer": "ipython3",
   "version": "3.9.12"
  }
 },
 "nbformat": 4,
 "nbformat_minor": 5
}
