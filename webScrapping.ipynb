{
  "nbformat": 4,
  "nbformat_minor": 0,
  "metadata": {
    "colab": {
      "provenance": []
    },
    "kernelspec": {
      "name": "python3",
      "display_name": "Python 3"
    },
    "language_info": {
      "name": "python"
    }
  },
  "cells": [
    {
      "cell_type": "code",
      "execution_count": 9,
      "metadata": {
        "colab": {
          "base_uri": "https://localhost:8080/"
        },
        "id": "SqBHHOeIQOML",
        "outputId": "3b51211e-877d-4fde-ed68-acee2b366764"
      },
      "outputs": [
        {
          "output_type": "stream",
          "name": "stdout",
          "text": [
            "['Blast causes only Crimea-Russia road bridge to collapse', \"What's next, asks Ukraine, after Russian bridge hit\", 'Watch: Fire rages after Crimea bridge blast', 'A new mission to see Titanic', 'The Japanese plant impossible to kill', 'Excitement and fear in Ukraine after bridge blast', 'John Simpson: Zelensky strikes all the right notes', \"New York declares emergency on migrant 'crisis'\", 'Scottish Premiership: St Johnstone v Celtic team news & build-up', 'Verstappen pips Leclerc to pole in Japan', 'Hosts New Zealand survive early Australia storm', 'A controversial archaeological find', 'How emotional cheating destroys couples', \"The US' puzzling, paranormal mystery\", '‘I am full of pain’: Thailand mourns mass killings', 'Distraught witnesses describe nursery attack horror', \"How zero-Covid is spoiling Xi's party\", \"Pakistan creates women's T20 league\", \"Is this the world's best beef?\", 'The vast impact of endless green energy', \"The mystery of Europe's bog murders\", 'The kids being raised without gender', \"A Soviet novel 'too dangerous to read'\", 'Ed Sheeran plays impromptu gig in Ipswich', \"What Biden's cannabis review means for Americans\", 'The LA kids who started behind and then flew ahead', 'Do you care if your boss wears a suit or a hoodie?', 'Zelensky: Russians being prepared for nuclear warfare', 'Zelensky: Russians being prepared for nuclear...', \"'Raw grief' at temple after Thai nursery...\", 'Exiled Russian journalists challenge Kremlin...', 'Molly Russell dad: Social media culture must...', \"Thai nursery attack witness 'begged for...\", \"Moment campaigner learns they've won a Nobel...\", 'One-minute World News', \"'Growth, growth, growth': Liz Truss' speech...\", 'Tens of thousands of salmon found dead in...', \"World aviation agrees 'aspirational' net zero plan\", \"Womb stem cell patch to fix babies' spines\", \"Homeowners 'tearing their hair out' over rising rates\", 'New UK oil and gas licences defy climate warnings', 'Liverpool celebrates Eurovision host city win', 'Tech Tent: El-on or El-off?', 'Protect elderly from rising Covid levels in UK', \"BBC Women's Footballer of 2022 - the contenders\", 'The DIY gadgets that could keep your energy bill down', 'A human tower, a hug and a cocktail: Photos of the week', \"Africa's top shots: Patriotic portraits and red afros\", 'India celebrates Dussehra festival with pomp', 'In pictures: Floridians take in Hurricane Ian’s impact', 'Guernsey sunrise wins Pic of the Season']\n"
          ]
        }
      ],
      "source": [
        "import requests\n",
        "from bs4 import BeautifulSoup as bs\n",
        "from IPython.display import Code\n",
        "\n",
        "response = requests.get(\"https://www.bbc.com/\")\n",
        "\n",
        "soup = bs(response.content,'html5lib')\n",
        "card_data = []\n",
        "\n",
        "table = soup.find_all(\"a\", attrs = {'class':'media__link'})\n",
        "data = str(table)\n",
        "\n",
        "for row in table:\n",
        "    card_data.append(row.text.lstrip().rstrip())\n",
        "    \n",
        "\n",
        "\n",
        "print(card_data)"
      ]
    }
  ]
}